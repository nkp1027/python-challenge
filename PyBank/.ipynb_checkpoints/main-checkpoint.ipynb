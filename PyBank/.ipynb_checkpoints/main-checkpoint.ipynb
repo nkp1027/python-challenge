{
 "cells": [
  {
   "cell_type": "code",
   "execution_count": 1,
   "id": "72389615-954d-4481-8623-30e18ed0c8ba",
   "metadata": {},
   "outputs": [],
   "source": [
    "from pathlib import Path\n",
    "import csv"
   ]
  },
  {
   "cell_type": "code",
   "execution_count": 5,
   "id": "c25da5ca-7d05-450c-897b-83040f5f4821",
   "metadata": {},
   "outputs": [],
   "source": [
    "csvpath = Path('../Pybank/budget_data.csv')"
   ]
  },
  {
   "cell_type": "code",
   "execution_count": 6,
   "id": "87860f48-5632-4b85-9ea0-902e27a97327",
   "metadata": {},
   "outputs": [],
   "source": [
    "dates = []\n",
    "profit_loss_changes = []"
   ]
  },
  {
   "cell_type": "code",
   "execution_count": null,
   "id": "5ec53cdf-44f3-44af-bc4c-d44dd1e50645",
   "metadata": {},
   "outputs": [],
   "source": [
    "with open(csvpath, 'r') as csvfile:"
   ]
  }
 ],
 "metadata": {
  "kernelspec": {
   "display_name": "Python 3 (ipykernel)",
   "language": "python",
   "name": "python3"
  },
  "language_info": {
   "codemirror_mode": {
    "name": "ipython",
    "version": 3
   },
   "file_extension": ".py",
   "mimetype": "text/x-python",
   "name": "python",
   "nbconvert_exporter": "python",
   "pygments_lexer": "ipython3",
   "version": "3.10.11"
  }
 },
 "nbformat": 4,
 "nbformat_minor": 5
}
