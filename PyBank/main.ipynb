{
 "cells": [
  {
   "cell_type": "code",
   "execution_count": 6,
   "id": "72389615-954d-4481-8623-30e18ed0c8ba",
   "metadata": {},
   "outputs": [],
   "source": [
    "# Import the pathlib and csv library\n",
    "from pathlib import Path\n",
    "import csv"
   ]
  },
  {
   "cell_type": "code",
   "execution_count": 7,
   "id": "c25da5ca-7d05-450c-897b-83040f5f4821",
   "metadata": {},
   "outputs": [],
   "source": [
    "# Set the file path\n",
    "csvpath = Path('../Pybank/budget_data.csv')"
   ]
  },
  {
   "cell_type": "code",
   "execution_count": 8,
   "id": "ebec2e65-d650-431c-bce2-1f3889cc0c30",
   "metadata": {},
   "outputs": [],
   "source": [
    "# Initialize variables\n",
    "months = 0\n",
    "total = 0\n",
    "pl = []\n",
    "monthlist =[]\n",
    "monthchange =[]"
   ]
  },
  {
   "cell_type": "code",
   "execution_count": 9,
   "id": "7c522858-c062-4315-a7a6-88602f2badd6",
   "metadata": {},
   "outputs": [],
   "source": [
    "# Open the input path as a file object\n",
    "with open(csvpath, 'r') as csvfile:\n",
    "    #Pass the csv file to the csv.reader() function\n",
    "    # (with ',' as the delmiter/separator) and return the csvreader object\n",
    "    csvreader = csv.reader(csvfile, delimiter=',')\n",
    "    # Read the header row first\n",
    "    csvheader = next(csvreader)\n",
    "    # Read each row of data after the header\n",
    "    for row in csvreader:\n",
    "        #Month count\n",
    "        months += 1\n",
    "        #Total of profits and losses\n",
    "        total += int(row[1])\n",
    "        #Append profit and loss to the 1 index\n",
    "        pl.append(row[1])\n",
    "        #Append the list of months to the 0 index\n",
    "        monthlist.append(row[0])"
   ]
  },
  {
   "cell_type": "code",
   "execution_count": 10,
   "id": "7a5b5f26-921a-4798-a6d5-02d579a6e0d6",
   "metadata": {},
   "outputs": [],
   "source": [
    "# Set the first months profit and loss for a starting point to read the data\n",
    "firstpl = int(pl[0])\n",
    "# Loop to compare month to month profits and losses data\n",
    "for i in range(1, len(pl)):\n",
    "    monthchange.append(int(pl[i]) - firstpl)\n",
    "    firstpl = int(pl[i])\n",
    "    i += 1\n",
    "# This is to calculate the average overall\n",
    "AverageChange = round(sum(monthchange) / len(monthchange),2)"
   ]
  },
  {
   "cell_type": "code",
   "execution_count": 13,
   "id": "48d41f3d-de2f-4623-86c5-2fb5cf38caf6",
   "metadata": {},
   "outputs": [
    {
     "name": "stdout",
     "output_type": "stream",
     "text": [
      "Financial Analysis\n",
      "-------------------------------------------------\n",
      "Total Months: 86\n",
      "Total: $38382578\n",
      "Average Change: $-2315.12\n",
      "Greatest Increase in Profits: Feb-2012 ($1926159)\n",
      "Greatest Decrease in Profits: Sep-2013 ($-2196167)\n"
     ]
    }
   ],
   "source": [
    "# Setting values of months of maximum increase of change and maximum decrease of chance aka Greatest increase and greatest decrease resepectively\n",
    "MaximumIncrease = max(monthchange)\n",
    "MaximumDecrease = min(monthchange)\n",
    "# This is where we compare with a loop, the profit and loss from month to month to see which had the highest and lowest profit change\n",
    "for i in range(len(monthchange)):\n",
    "    if monthchange[i] == MaximumIncrease:\n",
    "        maxIndex = (i+1)\n",
    "    elif monthchange[i] == MaximumDecrease:\n",
    "        minIndex = (i+1)\n",
    "    else:\n",
    "        i += 1\n",
    "# Set the value of max profit and loss according to the previous loop\n",
    "MaximumMonth = monthlist[maxIndex]\n",
    "MinimumMonth = monthlist[minIndex]\n",
    "#Print the analysis of the data\n",
    "print(f\"Financial Analysis\")\n",
    "print(f\"-------------------------------------------------\")\n",
    "print(f\"Total Months: {months}\")\n",
    "print(f\"Total: ${total}\")\n",
    "print(f\"Average Change: ${AverageChange}\")\n",
    "print(f\"Greatest Increase in Profits: {MaximumMonth} (${MaximumIncrease})\")\n",
    "print(f\"Greatest Decrease in Profits: {MinimumMonth} (${MaximumDecrease})\")\n",
    "# Set a output file for the text to be printed seperately\n",
    "outputfile = 'results.txt'\n",
    "# Open the output path as a file object\n",
    "with open(outputfile, 'w') as output:\n",
    "    #This prints the data neatly in the text file\n",
    "    output.write(f\"Financial Analysis\")\n",
    "    output.write(f\"\\n\")\n",
    "    output.write(f\"-------------------------------------------------\")\n",
    "    output.write(f\"\\n\")\n",
    "    output.write(f\"Total Months: {months}\")\n",
    "    output.write(f\"\\n\")\n",
    "    output.write(f\"Total: ${total}\")\n",
    "    output.write(f\"\\n\")\n",
    "    output.write(f\"Average Change: ${AverageChange}\")\n",
    "    output.write(f\"\\n\")\n",
    "    output.write(f\"Greatest Increase in Profits: {MaximumMonth} (${MaximumIncrease})\")\n",
    "    output.write(f\"\\n\")\n",
    "    output.write(f\"Greatest Decrease in Profits: {MinimumMonth} (${MaximumDecrease})\")"
   ]
  },
  {
   "cell_type": "code",
   "execution_count": null,
   "id": "300ce266-69a8-4333-98e4-e085208427c1",
   "metadata": {},
   "outputs": [],
   "source": []
  }
 ],
 "metadata": {
  "kernelspec": {
   "display_name": "Python 3 (ipykernel)",
   "language": "python",
   "name": "python3"
  },
  "language_info": {
   "codemirror_mode": {
    "name": "ipython",
    "version": 3
   },
   "file_extension": ".py",
   "mimetype": "text/x-python",
   "name": "python",
   "nbconvert_exporter": "python",
   "pygments_lexer": "ipython3",
   "version": "3.10.11"
  }
 },
 "nbformat": 4,
 "nbformat_minor": 5
}
