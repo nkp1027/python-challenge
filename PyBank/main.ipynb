{
 "cells": [
  {
   "cell_type": "code",
   "execution_count": 56,
   "id": "72389615-954d-4481-8623-30e18ed0c8ba",
   "metadata": {},
   "outputs": [],
   "source": [
    "from pathlib import Path\n",
    "import csv"
   ]
  },
  {
   "cell_type": "code",
   "execution_count": 57,
   "id": "c25da5ca-7d05-450c-897b-83040f5f4821",
   "metadata": {},
   "outputs": [],
   "source": [
    "csvpath = Path('../Pybank/budget_data.csv')"
   ]
  },
  {
   "cell_type": "code",
   "execution_count": 58,
   "id": "ebec2e65-d650-431c-bce2-1f3889cc0c30",
   "metadata": {},
   "outputs": [],
   "source": [
    "months = 0\n",
    "total = 0\n",
    "pl = []\n",
    "monthlist =[]\n",
    "monthchange =[]"
   ]
  },
  {
   "cell_type": "code",
   "execution_count": 59,
   "id": "7c522858-c062-4315-a7a6-88602f2badd6",
   "metadata": {},
   "outputs": [],
   "source": [
    "with open(csvpath, 'r') as csvfile:\n",
    "    csvreader = csv.reader(csvfile, delimiter=',')\n",
    "    csvheader = next(csvreader)\n",
    "    \n",
    "    for row in csvreader:\n",
    "        months += 1\n",
    "        total += int(row[1])\n",
    "        pl.append(row[1])\n",
    "        monthlist.append(row[0])"
   ]
  },
  {
   "cell_type": "code",
   "execution_count": 60,
   "id": "7a5b5f26-921a-4798-a6d5-02d579a6e0d6",
   "metadata": {},
   "outputs": [],
   "source": [
    "firstpl = int(pl[0])\n",
    "for i in range(1, len(pl)):\n",
    "    monthchange.append(int(pl[i]) - firstpl)\n",
    "    firstpl = int(pl[i])\n",
    "    i += 1\n",
    "AverageChange = round(sum(monthchange) / len(monthchange),2)"
   ]
  },
  {
   "cell_type": "code",
   "execution_count": 77,
   "id": "48d41f3d-de2f-4623-86c5-2fb5cf38caf6",
   "metadata": {},
   "outputs": [
    {
     "name": "stdout",
     "output_type": "stream",
     "text": [
      "Financial Analysis\n",
      "-------------------------------------------------\n",
      "Total Months: 86\n",
      "Total: $38382578\n",
      "Average Change: $-2315.12\n",
      "Greatest Increase in Profits: Feb-2012 ($1926159)\n",
      "Greatest Decrease in Profits: Sep-2013 ($-2196167)\n"
     ]
    }
   ],
   "source": [
    "MaximumIncrease = max(monthchange)\n",
    "MaximumDecrease = min(monthchange)\n",
    "for i in range(len(monthchange)):\n",
    "    if monthchange[i] == MaximumIncrease:\n",
    "        maxIndex = (i+1)\n",
    "    elif monthchange[i] == MaximumDecrease:\n",
    "        minIndex = (i+1)\n",
    "    else:\n",
    "        i += 1\n",
    "MaximumMonth = monthlist[maxIndex]\n",
    "MinimumMonth = monthlist[minIndex]\n",
    "\n",
    "print(f\"Financial Analysis\")\n",
    "print(f\"-------------------------------------------------\")\n",
    "print(f\"Total Months: {months}\")\n",
    "print(f\"Total: ${total}\")\n",
    "print(f\"Average Change: ${AverageChange}\")\n",
    "print(f\"Greatest Increase in Profits: {MaximumMonth} (${MaximumIncrease})\")\n",
    "print(f\"Greatest Decrease in Profits: {MinimumMonth} (${MaximumDecrease})\")\n",
    "\n",
    "outputfile = 'results.txt'\n",
    "with open(outputfile, 'w') as output:\n",
    "    output.write(f\"Financial Analysis\")\n",
    "    output.write(f\"\\n\")\n",
    "    output.write(f\"-------------------------------------------------\")\n",
    "    output.write(f\"\\n\")\n",
    "    output.write(f\"Total Months: {months}\")\n",
    "    output.write(f\"\\n\")\n",
    "    output.write(f\"Total: ${total}\")\n",
    "    output.write(f\"\\n\")\n",
    "    output.write(f\"Average Change: ${AverageChange}\")\n",
    "    output.write(f\"\\n\")\n",
    "    output.write(f\"Greatest Increase in Profits: {MaximumMonth} (${MaximumIncrease})\")\n",
    "    output.write(f\"\\n\")\n",
    "    output.write(f\"Greatest Decrease in Profits: {MinimumMonth} (${MaximumDecrease})\")"
   ]
  },
  {
   "cell_type": "code",
   "execution_count": null,
   "id": "300ce266-69a8-4333-98e4-e085208427c1",
   "metadata": {},
   "outputs": [],
   "source": []
  }
 ],
 "metadata": {
  "kernelspec": {
   "display_name": "Python 3 (ipykernel)",
   "language": "python",
   "name": "python3"
  },
  "language_info": {
   "codemirror_mode": {
    "name": "ipython",
    "version": 3
   },
   "file_extension": ".py",
   "mimetype": "text/x-python",
   "name": "python",
   "nbconvert_exporter": "python",
   "pygments_lexer": "ipython3",
   "version": "3.10.11"
  }
 },
 "nbformat": 4,
 "nbformat_minor": 5
}
